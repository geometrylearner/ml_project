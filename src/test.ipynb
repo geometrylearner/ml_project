{
 "cells": [
  {
   "cell_type": "code",
   "execution_count": null,
   "metadata": {},
   "outputs": [
    {
     "name": "stdout",
     "output_type": "stream",
     "text": [
      "['bin_0', 'bin_1', 'bin_2', 'bin_3', 'bin_4', 'nom_0', 'nom_1', 'nom_2', 'nom_3', 'nom_4', 'nom_5', 'nom_6', 'nom_7', 'nom_8', 'nom_9', 'ord_0', 'ord_1', 'ord_2', 'ord_3', 'ord_4', 'ord_5', 'day', 'month']\n"
     ]
    }
   ],
   "source": [
    "\"\"\"\n",
    "- label encoding\n",
    "- one hot encoding\n",
    "- binarization\n",
    "\"\"\"\n",
    "from sklearn import preprocessing\n",
    "\n",
    "class CategoricalFeatures:\n",
    "    \"\"\"\n",
    "    df: pandas dataframe\n",
    "    categorical features: list of columns names [\"ord_1\", \"nom_0\", ......]\n",
    "    encoding_type: label, binary, ohe\n",
    "    \"\"\"\n",
    "\n",
    "\n",
    "    def __init__(self, df, categorical_features, encoding_type, handle_na=True):\n",
    "        self.df = df\n",
    "        self.output_df = self.df.copy(deep=True)\n",
    "        self.cat_feats = categorical_features\n",
    "        self.enc_type = encoding_type\n",
    "        self.label_encoders = dict() # point the encoder by a dictionary;\n",
    "        self.binary_encoders = dict()\n",
    "\n",
    "        # converting all the data into strings and fill nan by some imaginary number(str)\n",
    "        for c in self.cat_feats:\n",
    "            self.df.loc[:, c] = df.loc[:, c].astype(str).fillna(\"-99999999\")\n",
    "\n",
    "    def _label_encoding(self): # interial function just return inward this class\n",
    "        for c in self.cat_feats:\n",
    "            lbl = preprocessing.LabelEncoder()\n",
    "            lbl.fit(self.df[c].values)\n",
    "            self.output_df.loc[:, c] = lbl.transform(self.df[c].values)\n",
    "            self.label_encoders[c] = lbl # label encoder;\n",
    "        return self.output_df\n",
    "\n",
    "    def _label_binarization(self):\n",
    "        for c in self.cat_feats:\n",
    "            lbl = preprocessing.LabelBinarizer()\n",
    "            lbl.fit(self.df[c].values)\n",
    "            val = lbl.transform(self.df[c].values)\n",
    "            self.output_df = self.output_df.drop(c, axis=1)\n",
    "            for j in range(val.shape[1]):\n",
    "                new_col_name = c + f\"_bin_{j}\"\n",
    "                self.output_df[new_col_name] = val[:, j]\n",
    "            self.binary_encoders[c] = lbl # binarizer encoder\n",
    "        return self.output_df\n",
    "\n",
    "    def fit_transform(self):\n",
    "        if self.enc_type == \"label\":\n",
    "            return self._label_encoding()\n",
    "        elif self.enc_type == \"binary\":\n",
    "            return self._label_binarization()\n",
    "        else:\n",
    "            raise Exception(\"Encoding type not understood\")\n",
    "    \n",
    "    def transform(self): # outward return function in this class\n",
    "        if self.enc_type == \"label\":\n",
    "            return self._label_encoding()\n",
    "        else:\n",
    "            raise Exception(\"Encoding type not understood\")\n",
    "\n",
    "if __name__ == \"__main__\":\n",
    "    import pandas as pd\n",
    "    df = pd.read_csv(\"../input/train_cat.csv\")\n",
    "    enc_type = \"label\"\n",
    "    cols = [c for c in df.columns if c not in [\"id\", \"target\"]]\n",
    "    print(cols)\n",
    "    cat_feats = CategoricalFeatures(df=df, # by TAB type author prefer to cat_feats this macroed name;\n",
    "                                    categorical_features=cols,\n",
    "                                    encoding_type=\"binary\",\n",
    "                                    handle_na=True)\n",
    "    output_df = cat_feats.fit_transform() # return output from transform() function;\n",
    "    print(output_df.head())"
   ]
  },
  {
   "cell_type": "code",
   "execution_count": null,
   "metadata": {},
   "outputs": [],
   "source": []
  }
 ],
 "metadata": {
  "kernelspec": {
   "display_name": "Python 3",
   "language": "python",
   "name": "python3"
  },
  "language_info": {
   "codemirror_mode": {
    "name": "ipython",
    "version": 3
   },
   "file_extension": ".py",
   "mimetype": "text/x-python",
   "name": "python",
   "nbconvert_exporter": "python",
   "pygments_lexer": "ipython3",
   "version": "3.7.6"
  }
 },
 "nbformat": 4,
 "nbformat_minor": 4
}
